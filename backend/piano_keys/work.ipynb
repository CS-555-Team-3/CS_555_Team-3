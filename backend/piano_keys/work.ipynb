{
 "cells": [
  {
   "cell_type": "code",
   "execution_count": 7,
   "id": "33ad782e",
   "metadata": {},
   "outputs": [
    {
     "name": "stdout",
     "output_type": "stream",
     "text": [
      "{ \n",
      "'A_low',\n",
      "'A_mid',\n",
      "'A_high',\n",
      "'B_low',\n",
      "'B_mid',\n",
      "'B_high',\n",
      "'C_low',\n",
      "'C_mid',\n",
      "'C_high',\n",
      "'D_low',\n",
      "'D_mid',\n",
      "'D_high',\n",
      "'E_low',\n",
      "'E_mid',\n",
      "'E_high',\n",
      "'F_low',\n",
      "'F_mid',\n",
      "'F_high',\n",
      "'G_low',\n",
      "'G_mid',\n",
      "'G_high',\n",
      "'A_flat_low',\n",
      "'A_flat_mid',\n",
      "'A_flat_high',\n",
      "'B_flat_low',\n",
      "'B_flat_mid',\n",
      "'B_flat_high',\n",
      "'D_flat_low',\n",
      "'D_flat_mid',\n",
      "'D_flat_high',\n",
      "'G_flat_low',\n",
      "'G_flat_mid',\n",
      "'G_flat_high',\n",
      "}\n"
     ]
    }
   ],
   "source": [
    "l = [\"A\", \"B\", \"C\", \"D\", \"E\", \"F\", \"G\"]\n",
    "l2 = [\"A\", \"B\", \"D\", \"G\"]\n",
    "\n",
    "print('{ ')\n",
    "for e in l:\n",
    "  print(\"\\'\"+ e +\"_low\\',\")\n",
    "  print(\"\\'\"+ e +\"_mid\\',\")\n",
    "  print(\"\\'\"+ e +\"_high\\',\")\n",
    "for e in l2:\n",
    "  print(\"\\'\"+ e +\"_flat_low\\',\")\n",
    "  print(\"\\'\"+ e +\"_flat_mid\\',\")\n",
    "  print(\"\\'\"+ e +\"_flat_high\\',\")\n",
    "\n",
    "print('}')"
   ]
  },
  {
   "cell_type": "code",
   "execution_count": 8,
   "id": "25eaf50a",
   "metadata": {},
   "outputs": [],
   "source": [
    "p_keys =[ \n",
    "'A_low',\n",
    "'A_mid',\n",
    "'A_high',\n",
    "'B_low',\n",
    "'B_mid',\n",
    "'B_high',\n",
    "'C_low',\n",
    "'C_mid',\n",
    "'C_high',\n",
    "'D_low',\n",
    "'D_mid',\n",
    "'D_high',\n",
    "'E_low',\n",
    "'E_mid',\n",
    "'E_high',\n",
    "'F_low',\n",
    "'F_mid',\n",
    "'F_high',\n",
    "'G_low',\n",
    "'G_mid',\n",
    "'G_high',\n",
    "'A_flat_low',\n",
    "'A_flat_mid',\n",
    "'A_flat_high',\n",
    "'B_flat_low',\n",
    "'B_flat_mid',\n",
    "'B_flat_high',\n",
    "'D_flat_low',\n",
    "'D_flat_mid',\n",
    "'D_flat_high',\n",
    "'G_flat_low',\n",
    "'G_flat_mid',\n",
    "'G_flat_high',\n",
    "]"
   ]
  },
  {
   "cell_type": "code",
   "execution_count": 24,
   "id": "83e0254c",
   "metadata": {},
   "outputs": [
    {
     "name": "stdout",
     "output_type": "stream",
     "text": [
      "/Users/shlomostept/Desktop/program\n"
     ]
    },
    {
     "ename": "CouldntEncodeError",
     "evalue": "Encoding failed. ffmpeg/avlib returned error code: 1\n\nCommand:['ffmpeg', '-y', '-f', 'wav', '-i', '/var/folders/wk/j3y1vfjn291c09xqzvbm3r_h0000gn/T/tmp83_g8e2q', '-f', 'mp3', '/var/folders/wk/j3y1vfjn291c09xqzvbm3r_h0000gn/T/tmp7z03hpmt']\n\nOutput from ffmpeg/avlib:\n\nffmpeg version N-105723-gfee804f7ed Copyright (c) 2000-2022 the FFmpeg developers\n  built with Apple LLVM version 10.0.1 (clang-1001.0.46.4)\n  configuration: \n  libavutil      57. 21.100 / 57. 21.100\n  libavcodec     59. 21.100 / 59. 21.100\n  libavformat    59. 17.102 / 59. 17.102\n  libavdevice    59.  5.100 / 59.  5.100\n  libavfilter     8. 27.100 /  8. 27.100\n  libswscale      6.  5.100 /  6.  5.100\n  libswresample   4.  4.100 /  4.  4.100\nGuessed Channel Layout for Input Stream #0.0 : stereo\nInput #0, wav, from '/var/folders/wk/j3y1vfjn291c09xqzvbm3r_h0000gn/T/tmp83_g8e2q':\n  Duration: 00:00:05.00, bitrate: 1411 kb/s\n  Stream #0:0: Audio: pcm_s16le ([1][0][0][0] / 0x0001), 44100 Hz, stereo, s16, 1411 kb/s\nAutomatic encoder selection failed for output stream #0:0. Default encoder for format mp3 (codec mp3) is probably disabled. Please choose an encoder manually.\nError selecting an encoder for stream 0:0\n",
     "output_type": "error",
     "traceback": [
      "\u001b[0;31m---------------------------------------------------------------------------\u001b[0m",
      "\u001b[0;31mCouldntEncodeError\u001b[0m                        Traceback (most recent call last)",
      "\u001b[0;32m~/Desktop/program\u001b[0m in \u001b[0;36m<module>\u001b[0;34m\u001b[0m\n\u001b[1;32m     23\u001b[0m     \u001b[0mtune\u001b[0m \u001b[0;34m+=\u001b[0m \u001b[0msound\u001b[0m\u001b[0;34m[\u001b[0m\u001b[0;34m:\u001b[0m\u001b[0mseconds\u001b[0m\u001b[0;34m*\u001b[0m\u001b[0;36m1000\u001b[0m\u001b[0;34m]\u001b[0m\u001b[0;34m\u001b[0m\u001b[0;34m\u001b[0m\u001b[0m\n\u001b[1;32m     24\u001b[0m \u001b[0;34m\u001b[0m\u001b[0m\n\u001b[0;32m---> 25\u001b[0;31m \u001b[0mtune_file\u001b[0m \u001b[0;34m=\u001b[0m \u001b[0mtune\u001b[0m\u001b[0;34m.\u001b[0m\u001b[0mexport\u001b[0m\u001b[0;34m(\u001b[0m\u001b[0mformat\u001b[0m\u001b[0;34m=\u001b[0m\u001b[0;34m\"mp3\"\u001b[0m\u001b[0;34m)\u001b[0m\u001b[0;34m\u001b[0m\u001b[0;34m\u001b[0m\u001b[0m\n\u001b[0m",
      "\u001b[0;32m~/opt/anaconda3/lib/python3.8/site-packages/pydub/audio_segment.py\u001b[0m in \u001b[0;36mexport\u001b[0;34m(self, out_f, format, codec, bitrate, parameters, tags, id3v2_version, cover)\u001b[0m\n\u001b[1;32m    968\u001b[0m \u001b[0;34m\u001b[0m\u001b[0m\n\u001b[1;32m    969\u001b[0m         \u001b[0;32mif\u001b[0m \u001b[0mp\u001b[0m\u001b[0;34m.\u001b[0m\u001b[0mreturncode\u001b[0m \u001b[0;34m!=\u001b[0m \u001b[0;36m0\u001b[0m\u001b[0;34m:\u001b[0m\u001b[0;34m\u001b[0m\u001b[0;34m\u001b[0m\u001b[0m\n\u001b[0;32m--> 970\u001b[0;31m             raise CouldntEncodeError(\n\u001b[0m\u001b[1;32m    971\u001b[0m                 \"Encoding failed. ffmpeg/avlib returned error code: {0}\\n\\nCommand:{1}\\n\\nOutput from ffmpeg/avlib:\\n\\n{2}\".format(\n\u001b[1;32m    972\u001b[0m                     p.returncode, conversion_command, p_err.decode(errors='ignore') ))\n",
      "\u001b[0;31mCouldntEncodeError\u001b[0m: Encoding failed. ffmpeg/avlib returned error code: 1\n\nCommand:['ffmpeg', '-y', '-f', 'wav', '-i', '/var/folders/wk/j3y1vfjn291c09xqzvbm3r_h0000gn/T/tmp83_g8e2q', '-f', 'mp3', '/var/folders/wk/j3y1vfjn291c09xqzvbm3r_h0000gn/T/tmp7z03hpmt']\n\nOutput from ffmpeg/avlib:\n\nffmpeg version N-105723-gfee804f7ed Copyright (c) 2000-2022 the FFmpeg developers\n  built with Apple LLVM version 10.0.1 (clang-1001.0.46.4)\n  configuration: \n  libavutil      57. 21.100 / 57. 21.100\n  libavcodec     59. 21.100 / 59. 21.100\n  libavformat    59. 17.102 / 59. 17.102\n  libavdevice    59.  5.100 / 59.  5.100\n  libavfilter     8. 27.100 /  8. 27.100\n  libswscale      6.  5.100 /  6.  5.100\n  libswresample   4.  4.100 /  4.  4.100\nGuessed Channel Layout for Input Stream #0.0 : stereo\nInput #0, wav, from '/var/folders/wk/j3y1vfjn291c09xqzvbm3r_h0000gn/T/tmp83_g8e2q':\n  Duration: 00:00:05.00, bitrate: 1411 kb/s\n  Stream #0:0: Audio: pcm_s16le ([1][0][0][0] / 0x0001), 44100 Hz, stereo, s16, 1411 kb/s\nAutomatic encoder selection failed for output stream #0:0. Default encoder for format mp3 (codec mp3) is probably disabled. Please choose an encoder manually.\nError selecting an encoder for stream 0:0\n"
     ]
    }
   ],
   "source": [
    "import random\n",
    "import pathlib\n",
    "from pydub import AudioSegment\n",
    "import os\n",
    "\n",
    "seconds = 1\n",
    "\n",
    "sample = random.sample(p_keys, 5)\n",
    "\n",
    "sound_list = []\n",
    "import os\n",
    "__file__ =os.path.abspath(os.getcwd())\n",
    "print(__file__)\n",
    "for i in range(len(sample)):\n",
    "    path = str(pathlib.Path(__file__).parent.resolve())\n",
    "    \n",
    "    sound = AudioSegment.from_mp3(path + f\"/piano_keys/{sample[i]}.mp3\")\n",
    "    \n",
    "    sound_list.append(sound)\n",
    "\n",
    "tune = AudioSegment.empty()\n",
    "for sound in sound_list:\n",
    "    tune += sound[:seconds*1000]\n",
    "\n",
    "tune_file = tune.export(format=\"mp3\")"
   ]
  },
  {
   "cell_type": "code",
   "execution_count": null,
   "id": "21553b17",
   "metadata": {},
   "outputs": [],
   "source": []
  }
 ],
 "metadata": {
  "kernelspec": {
   "display_name": "Python 3 (ipykernel)",
   "language": "python",
   "name": "python3"
  },
  "language_info": {
   "codemirror_mode": {
    "name": "ipython",
    "version": 3
   },
   "file_extension": ".py",
   "mimetype": "text/x-python",
   "name": "python",
   "nbconvert_exporter": "python",
   "pygments_lexer": "ipython3",
   "version": "3.8.8"
  }
 },
 "nbformat": 4,
 "nbformat_minor": 5
}
